{
 "cells": [
  {
   "cell_type": "code",
   "execution_count": 3,
   "metadata": {},
   "outputs": [
    {
     "name": "stdout",
     "output_type": "stream",
     "text": [
      "                                               question  \\\n",
      "0                         what is a recursive function?   \n",
      "1     what are the similarities between iteration an...   \n",
      "2                                      what is a queue?   \n",
      "3                                    what is a pointer?   \n",
      "4                    what is the role of a header-file?   \n",
      "...                                                 ...   \n",
      "1795  how can an array be addressed in pointer/offse...   \n",
      "1796             what is the scope of global variables?   \n",
      "1797     how does the compiler handle inline functions?   \n",
      "1798  what is the main difference between strings de...   \n",
      "1799  what is typically included in a class definition?   \n",
      "\n",
      "                                           model_answer  \\\n",
      "0                         a function that calls itself.   \n",
      "1     they both involve repetition; they both have t...   \n",
      "2     a data structure that can store elements, whic...   \n",
      "3                  the address of a location in memory.   \n",
      "4     to store a class interface, including data mem...   \n",
      "...                                                 ...   \n",
      "1795  by initializing a pointer to point to the firs...   \n",
      "1796                                        file scope.   \n",
      "1797  it makes a copy of the function code in every ...   \n",
      "1798  the strings declared using an array of charact...   \n",
      "1799    data members (attributes) and member functions.   \n",
      "\n",
      "                                         student_answer  grade  \\\n",
      "0     it is a function that calls itself.   it runs ...    1.0   \n",
      "1     both based on control statement, involve repet...    1.0   \n",
      "2     is a particular kind of collection in which th...    1.0   \n",
      "3     a pointer is a variable that holds the address...    1.0   \n",
      "4     to separate the source code from the main func...    0.7   \n",
      "...                                                 ...    ...   \n",
      "1795  you can have a pointer to the front of the arr...    1.0   \n",
      "1796              global variables all have file scope.    1.0   \n",
      "1797  multiple copies of the function code are inser...    0.9   \n",
      "1798  unlike in a string declared using type string,...    1.0   \n",
      "1799                  data members and member functions    1.0   \n",
      "\n",
      "                        source  ID  \n",
      "0     short_answer_grading.csv   0  \n",
      "1     short_answer_grading.csv   0  \n",
      "2     short_answer_grading.csv   0  \n",
      "3     short_answer_grading.csv   0  \n",
      "4     short_answer_grading.csv   0  \n",
      "...                        ...  ..  \n",
      "1795  short_answer_grading.csv   0  \n",
      "1796  short_answer_grading.csv   0  \n",
      "1797  short_answer_grading.csv   0  \n",
      "1798  short_answer_grading.csv   0  \n",
      "1799  short_answer_grading.csv   0  \n",
      "\n",
      "[1800 rows x 6 columns]\n"
     ]
    }
   ],
   "source": [
    "import matplotlib.pyplot as plt\n",
    "import numpy as np\n",
    "import pandas as pd\n",
    "import openpyxl\n",
    "\n",
    "df= pd.read_excel('C:\\\\Users\\\\santo\\\\Downloads\\\\Traing_Data_analysis.xlsx')"
   ]
  },
  {
   "cell_type": "code",
   "execution_count": 13,
   "metadata": {},
   "outputs": [
    {
     "name": "stdout",
     "output_type": "stream",
     "text": [
      "Centroid of Class 1: 0.9767086330935251, Spread: 0.04226877001138608\n",
      "Centroid of Class 2: 0.600436046511628, Spread: 0.18493347792865555\n",
      "Interclass Distance: 0.3762725865818971\n"
     ]
    }
   ],
   "source": [
    "mean0fgrade = df['grade'].mean()\n",
    "class1_feat_vecs = np.array([]) \n",
    "class2_feat_vecs = np.array([]) \n",
    "\n",
    "# Create a new column in df based on the condition\n",
    "df['results'] = np.where(df['grade'] > mean0fgrade, 1, 0)\n",
    "\n",
    "# Append values to class1_feat_vecs and class2_feat_vecs based on the new column\n",
    "class1_feat_vecs = np.append(class1_feat_vecs, df[df['results'] == 1]['grade'].values)\n",
    "class2_feat_vecs = np.append(class2_feat_vecs, df[df['results'] == 0]['grade'].values)\n",
    "\n",
    "centroid1 = class1_feat_vecs.mean(axis=0)\n",
    "centroid2 = class2_feat_vecs.mean(axis=0)\n",
    "\n",
    "# Calculate the spread (standard deviation) for each class\n",
    "spread1 = class1_feat_vecs.std(axis=0)\n",
    "spread2 = class2_feat_vecs.std(axis=0)\n",
    "\n",
    "# Calculate the distance between the centroids of the two classes\n",
    "interclass_distance = np.linalg.norm(centroid1 - centroid2)\n",
    "\n",
    "print(f\"Centroid of Class 1: {centroid1}, Spread: {spread1}\")\n",
    "print(f\"Centroid of Class 2: {centroid2}, Spread: {spread2}\")\n",
    "print(f\"Interclass Distance: {interclass_distance}\")\n",
    "result = df['results'] \n",
    "grade = df['grade'] "
   ]
  },
  {
   "cell_type": "code",
   "execution_count": 14,
   "metadata": {},
   "outputs": [
    {
     "data": {
      "image/png": "[encoded data removed]",
      "text/plain": [
       "<Figure size 640x480 with 1 Axes>"
      ]
     },
     "metadata": {},
     "output_type": "display_data"
    }
   ],
   "source": [
    "import seaborn as sns\n",
    "\n",
    "sns.scatterplot(x=result, y='grade', data=df)\n",
    "\n",
    "plt.show()"
   ]
  },
  {
   "cell_type": "code",
   "execution_count": 21,
   "metadata": {},
   "outputs": [
    {
     "name": "stdout",
     "output_type": "stream",
     "text": [
      "1.0\n"
     ]
    },
    {
     "data": {
      "text/plain": [
       "array([0, 1, 0, 1, 0, 1, 0, 1, 1, 0, 0, 1, 1, 1, 1, 1, 1, 0, 1, 1, 1, 1,\n",
       "       1, 1, 0, 0, 0, 0, 0, 0, 1, 0, 0, 0, 1, 0, 1, 0, 1, 1, 1, 1, 1, 1,\n",
       "       0, 0, 1, 1, 1, 1, 1, 1, 0, 1, 0, 1, 1, 1, 0, 1, 0, 1, 1, 0, 1, 1,\n",
       "       1, 1, 1, 0, 0, 1, 1, 1, 0, 0, 1, 1, 0, 1, 1, 1, 0, 0, 1, 1, 0, 0,\n",
       "       0, 0, 1, 1, 0, 1, 1, 0, 0, 0, 1, 1, 1, 0, 0, 1, 0, 1, 1, 1, 1, 0,\n",
       "       1, 1, 0, 0, 1, 1, 1, 1, 1, 1, 1, 1, 1, 1, 1, 0, 0, 1, 0, 0, 0, 0,\n",
       "       1, 0, 0, 0, 1, 0, 1, 1, 0, 0, 0, 1, 0, 1, 1, 1, 0, 0, 1, 0, 1, 0,\n",
       "       1, 1, 0, 0, 0, 0, 1, 1, 0, 0, 1, 1, 0, 1, 1, 1, 1, 1, 0, 1, 0, 1,\n",
       "       1, 0, 1, 1, 1, 1, 1, 0, 1, 0, 1, 0, 1, 0, 0, 0, 1, 1, 0, 1, 1, 1,\n",
       "       1, 0, 0, 1, 0, 1, 1, 0, 1, 1, 1, 1, 1, 1, 0, 1, 1, 1, 0, 0, 1, 1,\n",
       "       1, 0, 1, 0, 0, 1, 0, 1, 1, 1, 1, 0, 1, 1, 1, 0, 1, 1, 1, 0, 1, 1,\n",
       "       1, 0, 1, 1, 1, 1, 1, 1, 1, 1, 0, 1, 0, 0, 0, 1, 0, 0, 0, 0, 1, 0,\n",
       "       1, 1, 0, 1, 0, 0, 0, 1, 1, 1, 0, 0, 0, 1, 1, 0, 0, 1, 1, 0, 1, 1,\n",
       "       1, 0, 0, 1, 0, 1, 0, 1, 1, 1, 0, 0, 1, 1, 1, 1, 0, 0, 1, 0, 1, 1,\n",
       "       1, 0, 1, 1, 1, 1, 0, 1, 1, 0, 0, 1, 1, 0, 1, 0, 1, 0, 1, 1, 1, 1,\n",
       "       1, 1, 0, 0, 1, 1, 1, 1, 1, 1, 1, 1, 1, 0, 1, 1, 1, 0, 1, 1, 1, 0,\n",
       "       1, 1, 0, 1, 1, 0, 1, 1, 1, 1, 0, 1, 1, 1, 1, 0, 1, 0, 0, 0, 1, 0,\n",
       "       1, 1, 0, 0, 1, 1, 1, 1, 0, 0, 0, 0, 1, 1, 1, 0, 1, 0, 0, 1, 0, 0,\n",
       "       0, 0, 1, 0, 0, 1, 1, 1, 0, 1, 1, 0, 1, 1, 1, 1, 1, 0, 1, 0, 0, 1,\n",
       "       1, 1, 1, 1, 1, 0, 0, 0, 1, 1, 1, 1, 0, 0, 0, 1, 0, 0, 1, 1, 1, 1,\n",
       "       0, 1, 0, 0, 1, 1, 0, 1, 1, 1, 0, 0, 1, 1, 1, 1, 1, 1, 1, 0, 1, 0,\n",
       "       1, 1, 0, 0, 0, 1, 1, 0, 1, 0, 1, 1, 0, 1, 1, 0, 1, 1, 1, 1, 1, 1,\n",
       "       0, 1, 0, 0, 1, 0, 1, 1, 0, 1, 1, 1, 0, 1, 0, 0, 0, 0, 1, 0, 0, 1,\n",
       "       1, 1, 1, 0, 1, 1, 1, 0, 1, 1, 1, 1, 0, 1, 1, 0, 1, 1, 1, 0, 1, 1,\n",
       "       0, 0, 0, 0, 0, 1, 0, 1, 0, 1, 0, 0])"
      ]
     },
     "execution_count": 21,
     "metadata": {},
     "output_type": "execute_result"
    }
   ],
   "source": [
    "from sklearn.model_selection import train_test_split\n",
    "from sklearn.neighbors import KNeighborsClassifier\n",
    "X_train,X_test,y_train,y_test=train_test_split(grade,result,test_size=0.3)\n",
    "knn=KNeighborsClassifier(n_neighbors=3)\n",
    "import numpy as np\n",
    "\n",
    "# Assuming grade is a numpy array\n",
    "grade_reshaped = grade.to_numpy().reshape(-1, 1)\n",
    "\n",
    "# Now use grade_reshaped in the fit method\n",
    "knn.fit(grade_reshaped, result)\n",
    "# Reshape X_test to a 2D array\n",
    "X_test_reshaped = X_test.to_numpy().reshape(-1, 1)\n",
    "\n",
    "# Now use X_test_reshaped in the score method\n",
    "print(knn.score(X_test_reshaped, y_test))\n",
    "knn.predict(X_test_reshaped)\n"
   ]
  }
 ],
 "metadata": {
  "kernelspec": {
   "display_name": "Python 3",
   "language": "python",
   "name": "python3"
  },
  "language_info": {
   "codemirror_mode": {
    "name": "ipython",
    "version": 3
   },
   "file_extension": ".py",
   "mimetype": "text/x-python",
   "name": "python",
   "nbconvert_exporter": "python",
   "pygments_lexer": "ipython3",
   "version": "3.11.4"
  }
 },
 "nbformat": 4,
 "nbformat_minor": 2
}
