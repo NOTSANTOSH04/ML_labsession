{
 "cells": [
  {
   "cell_type": "code",
   "execution_count": 1,
   "metadata": {},
   "outputs": [
    {
     "name": "stdout",
     "output_type": "stream",
     "text": [
      "Euclidean distance: 5.196152422706632\n",
      "Manhattan distance: 9\n"
     ]
    }
   ],
   "source": [
    "def euclidean_distance(vector1, vector2):\n",
    "    # Check if the vectors have the same dimension\n",
    "    if len(vector1) != len(vector2):\n",
    "        print(\"Vectors must be of same dimension\")\n",
    "    else:\n",
    "        # Initialize the sum to 0\n",
    "        sum = 0\n",
    "        # Iterate over each element in the vectors\n",
    "        for i in range(len(vector1)):\n",
    "            # Add the square of the difference of the corresponding elements in the vectors to the sum\n",
    "            sum += (vector1[i] - vector2[i])**2\n",
    "        # Return the square root of the sum (Euclidean distance)\n",
    "        return sum**0.5\n",
    "\n",
    "def manhattan_distance(vector1, vector2):\n",
    "    # Check if the vectors have the same dimension\n",
    "    if len(vector1) != len(vector2):\n",
    "        print(\"Vectors must be of same dimension\")\n",
    "    else:\n",
    "        # Initialize the sum to 0\n",
    "        sum = 0\n",
    "        # Iterate over each element in the vectors\n",
    "        for i in range(len(vector1)):\n",
    "            # Add the absolute difference of the corresponding elements in the vectors to the sum\n",
    "            sum += abs(vector1[i] - vector2[i])\n",
    "        # Return the sum (Manhattan distance)\n",
    "        return sum\n",
    "\n",
    "# Define two vectors\n",
    "vector1 = [1, 2, 3]\n",
    "vector2 = [4, 5, 6]\n",
    "\n",
    "# Print the Euclidean distance between the vectors\n",
    "print(\"Euclidean distance:\", euclidean_distance(vector1, vector2))\n",
    "# Print the Manhattan distance between the vectors\n",
    "print(\"Manhattan distance:\", manhattan_distance(vector1, vector2))"
   ]
  },
  {
   "cell_type": "code",
   "execution_count": 2,
   "metadata": {},
   "outputs": [
    {
     "name": "stdout",
     "output_type": "stream",
     "text": [
      "Predicted class: ['Class1' 'Class1' 'Class2']\n"
     ]
    }
   ],
   "source": [
    "from sklearn.neighbors import KNeighborsClassifier\n",
    "import numpy as np\n",
    "\n",
    "# Define the training data (X) and the corresponding classes (y)\n",
    "X = np.array([[1, 2, 3], [4, 5, 6], [7, 8, 9], [10, 11, 12], [13, 14, 15]])\n",
    "y = np.array(['Class1', 'Class2', 'Class1', 'Class2', 'Class1'])\n",
    "\n",
    "# Define the number of neighbors to consider\n",
    "k=3\n",
    "# Initialize the KNN classifier with the specified number of neighbors\n",
    "knn = KNeighborsClassifier(n_neighbors=k)\n",
    "\n",
    "# Fit the KNN classifier to the training data\n",
    "knn.fit(X, y)\n",
    "\n",
    "# Define new data points to classify\n",
    "new_point = np.array([[5, 6, 7],[0,8,7],[7,7,7]])\n",
    "\n",
    "# Use the KNN classifier to predict the classes of the new data points\n",
    "print(\"Predicted class:\", knn.predict(new_point))"
   ]
  },
  {
   "cell_type": "code",
   "execution_count": 3,
   "metadata": {},
   "outputs": [
    {
     "name": "stdout",
     "output_type": "stream",
     "text": [
      "Encoded data: [0, 1, 2, 1, 0, 2, 2, 0, 1, 2]\n"
     ]
    }
   ],
   "source": [
    "def label_encoder(data):\n",
    "    # Initialize an empty list to store the unique categorical values\n",
    "    categorical_values = []\n",
    "    # Iterate over each item in the data\n",
    "    for item in data:\n",
    "        # If the item is not already in the list of categorical values, add it\n",
    "        if item not in categorical_values:\n",
    "            categorical_values.append(item)\n",
    "    \n",
    "    # Initialize an empty list to store the encoded data\n",
    "    encoded_data = []\n",
    "    # Iterate over each item in the data\n",
    "    for item in data:\n",
    "        # Find the index of the item in the list of categorical values\n",
    "        index = categorical_values.index(item)\n",
    "        # Add the index to the list of encoded data\n",
    "        encoded_data.append(index)\n",
    "\n",
    "    # Return the list of encoded data\n",
    "    return encoded_data\n",
    "\n",
    "# Define a list of categorical data\n",
    "data = ['Red', 'Blue', 'Green', 'Blue', 'Red', 'Green', 'Green', 'Red', 'Blue', 'Green']\n",
    "# Encode the data using the label encoder\n",
    "encoded_data = label_encoder(data)\n",
    "# Print the encoded data\n",
    "print(f\"Encoded data: {encoded_data}\")\n"
   ]
  },
  {
   "cell_type": "code",
   "execution_count": 4,
   "metadata": {},
   "outputs": [
    {
     "name": "stdout",
     "output_type": "stream",
     "text": [
      "Encoded data: [array([1., 0., 0.]), array([0., 1., 0.]), array([0., 0., 1.]), array([0., 1., 0.]), array([1., 0., 0.]), array([0., 0., 1.]), array([0., 0., 1.]), array([1., 0., 0.]), array([0., 1., 0.]), array([0., 0., 1.])]\n"
     ]
    }
   ],
   "source": [
    "\n",
    "def label_encoder1(data, categories):\n",
    "    # Initialize list for encoded data\n",
    "    modified_data = []\n",
    "    for item in data:\n",
    "        # Create zero vector for each item\n",
    "        encoded_data = np.zeros(len(categories))\n",
    "        if item in categories:\n",
    "            # Set corresponding category index to 1\n",
    "            encoded_data[categories.index(item)] = 1\n",
    "            # Append encoded vector to list\n",
    "            modified_data.append(encoded_data)\n",
    "    # Return list of encoded vectors\n",
    "    return modified_data\n",
    "\n",
    "# Define data and categories\n",
    "data = ['Red', 'Blue', 'Green', 'Blue', 'Red', 'Green', 'Green', 'Red', 'Blue', 'Green']\n",
    "categories = ['Red', 'Blue', 'Green']\n",
    "\n",
    "# Encode data\n",
    "encoded_data1 = label_encoder1(data, categories)\n",
    "\n",
    "# Print encoded data\n",
    "print(f\"Encoded data: {encoded_data1}\")"
   ]
  }
 ],
 "metadata": {
  "kernelspec": {
   "display_name": "Python 3",
   "language": "python",
   "name": "python3"
  },
  "language_info": {
   "codemirror_mode": {
    "name": "ipython",
    "version": 3
   },
   "file_extension": ".py",
   "mimetype": "text/x-python",
   "name": "python",
   "nbconvert_exporter": "python",
   "pygments_lexer": "ipython3",
   "version": "3.11.4"
  }
 },
 "nbformat": 4,
 "nbformat_minor": 2
}
