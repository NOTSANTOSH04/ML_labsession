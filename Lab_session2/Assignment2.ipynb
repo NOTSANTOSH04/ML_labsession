{
 "cells": [
  {
   "cell_type": "code",
   "execution_count": 1,
   "metadata": {},
   "outputs": [
    {
     "name": "stdout",
     "output_type": "stream",
     "text": [
      "Euclidean distance: 5.196152422706632\n",
      "Manhattan distance: 9\n"
     ]
    }
   ],
   "source": [
    "def euclidean_distance(vector1, vector2):\n",
    "    if len(vector1) != len(vector2):\n",
    "        print(\"Vectors must be of same dimension\")\n",
    "    else:\n",
    "        return sum((v1 - v2) ** 2 for v1, v2 in zip(vector1, vector2)) ** 0.5\n",
    "\n",
    "def manhattan_distance(vector1, vector2):\n",
    "    if len(vector1) != len(vector2):\n",
    "        print(\"Vectors must be of same dimension\")\n",
    "    else:\n",
    "        return sum(abs(v1 - v2) for v1, v2 in zip(vector1, vector2))\n",
    "vector1 = [1, 2, 3]\n",
    "vector2 = [4, 5, 6]\n",
    "\n",
    "print(\"Euclidean distance:\", euclidean_distance(vector1, vector2))\n",
    "print(\"Manhattan distance:\", manhattan_distance(vector1, vector2))"
   ]
  },
  {
   "cell_type": "code",
   "execution_count": 3,
   "metadata": {},
   "outputs": [
    {
     "name": "stdout",
     "output_type": "stream",
     "text": [
      "Predicted class: Class1\n"
     ]
    }
   ],
   "source": [
    "from sklearn.neighbors import KNeighborsClassifier\n",
    "import numpy as np\n",
    "\n",
    "X = np.array([[1, 2, 3], [4, 5, 6], [7, 8, 9], [10, 11, 12], [13, 14, 15]])\n",
    "y = np.array(['Class1', 'Class2', 'Class1', 'Class2', 'Class1'])\n",
    "\n",
    "k=3\n",
    "knn = KNeighborsClassifier(n_neighbors=k)\n",
    "\n",
    "knn.fit(X, y)\n",
    "\n",
    "new_point = np.array([[5, 6, 7]])\n",
    "\n",
    "print(\"Predicted class:\", knn.predict(new_point)[0])"
   ]
  },
  {
   "cell_type": "code",
   "execution_count": 4,
   "metadata": {},
   "outputs": [
    {
     "name": "stdout",
     "output_type": "stream",
     "text": [
      "Encoded data: [0, 1, 2, 1, 0, 2, 2, 0, 1, 2]\n"
     ]
    }
   ],
   "source": [
    "def label_encoder(data):\n",
    "    categorical_values = []\n",
    "    for item in data:\n",
    "        if item not in categorical_values:\n",
    "            categorical_values.append(item)\n",
    "    \n",
    "    encoded_data = []\n",
    "    for item in data:\n",
    "        index = categorical_values.index(item)\n",
    "        encoded_data.append(index)\n",
    "\n",
    "    return encoded_data\n",
    "\n",
    "data = ['Red', 'Blue', 'Green', 'Blue', 'Red', 'Green', 'Green', 'Red', 'Blue', 'Green']\n",
    "encoded_data = label_encoder(data)\n",
    "print(f\"Encoded data: {encoded_data}\")\n"
   ]
  },
  {
   "cell_type": "code",
   "execution_count": 6,
   "metadata": {},
   "outputs": [
    {
     "name": "stdout",
     "output_type": "stream",
     "text": [
      "Encoded data: [array([1., 0., 0.]), array([0., 1., 0.]), array([0., 0., 1.]), array([0., 1., 0.]), array([1., 0., 0.]), array([0., 0., 1.]), array([0., 0., 1.]), array([1., 0., 0.]), array([0., 1., 0.]), array([0., 0., 1.])]\n"
     ]
    }
   ],
   "source": [
    "import numpy as np\n",
    "def label_encoder1(data,categories):\n",
    "    len_data = len(categories)\n",
    "    i=0\n",
    "    modified_data = []\n",
    "    for item in data:\n",
    "        encoded_data = np.zeros(len_data)\n",
    "        if item in categories:\n",
    "            index = categories.index(item)\n",
    "            encoded_data[index] = 1\n",
    "            modified_data.append(encoded_data)\n",
    "        i+=1\n",
    "    return modified_data\n",
    "\n",
    "data = ['Red', 'Blue', 'Green', 'Blue', 'Red', 'Green', 'Green', 'Red', 'Blue', 'Green']\n",
    "categories = ['Red', 'Blue', 'Green']\n",
    "encoded_data1 = label_encoder1(data,categories)\n",
    "print(f\"Encoded data: {encoded_data1}\")\n",
    "        \n"
   ]
  }
 ],
 "metadata": {
  "kernelspec": {
   "display_name": "Python 3",
   "language": "python",
   "name": "python3"
  },
  "language_info": {
   "codemirror_mode": {
    "name": "ipython",
    "version": 3
   },
   "file_extension": ".py",
   "mimetype": "text/x-python",
   "name": "python",
   "nbconvert_exporter": "python",
   "pygments_lexer": "ipython3",
   "version": "3.11.4"
  }
 },
 "nbformat": 4,
 "nbformat_minor": 2
}
