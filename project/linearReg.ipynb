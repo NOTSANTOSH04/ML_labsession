{
 "cells": [
  {
   "cell_type": "code",
   "execution_count": 1,
   "metadata": {},
   "outputs": [],
   "source": [
    "import pandas as pd\n",
    "import numpy as np\n",
    "from sklearn.model_selection import train_test_split\n",
    "from sklearn.linear_model import LinearRegression\n",
    "from sklearn.metrics import mean_squared_error\n"
   ]
  },
  {
   "cell_type": "code",
   "execution_count": 2,
   "metadata": {},
   "outputs": [],
   "source": [
    "import pandas as pd\n",
    "\n",
    "file_path = \"C:\\\\Users\\\\santo\\\\OneDrive - Amrita vishwa vidyapeetham\\\\Documents\\\\4th sem Btech\\\\Machine Learning\\\\datasets\\\\question_answers_answerkey.xlsx\"\n",
    "df = pd.read_excel(file_path, skiprows=1)\n"
   ]
  },
  {
   "cell_type": "code",
   "execution_count": 3,
   "metadata": {},
   "outputs": [],
   "source": [
    "from sklearn.metrics.pairwise import cosine_similarity\n",
    "\n",
    "# Assuming 'df' is your DataFrame\n",
    "# Preparing the embeddings for cosine similarity calculation\n",
    "question_answer_embeddings = df.iloc[:, 0:300].to_numpy()\n",
    "answer_key_embeddings = df.iloc[:, 300:600].to_numpy()\n",
    "\n",
    "# Calculate cosine similarity (result is a matrix)\n",
    "similarity_scores = [cosine_similarity(question_answer_embeddings[i].reshape(1, -1), \n",
    "                                       answer_key_embeddings[i].reshape(1, -1))[0, 0] \n",
    "                     for i in range(len(df))]\n",
    "\n",
    "# Add similarity scores as a new column to the DataFrame\n",
    "df['similarity'] = similarity_scores\n"
   ]
  },
  {
   "cell_type": "code",
   "execution_count": 4,
   "metadata": {},
   "outputs": [
    {
     "name": "stdout",
     "output_type": "stream",
     "text": [
      "(200, 604)\n",
      "Index([  0.01449042465537786,   0.01693243719637394, -0.005986982956528664,\n",
      "       -0.002628256101161242,  0.006029705982655287, -0.005112622864544392,\n",
      "          0.0209601279348135,   0.01948628388345242,  0.007617805153131485,\n",
      "        -0.02188760414719582,\n",
      "       ...\n",
      "         0.02328946627676487,    0.0161252822726965, -0.006875992752611637,\n",
      "         0.02274320274591446,  -0.01716111227869987,  -0.01143357250839472,\n",
      "                         3.5,                   5.0,                   1.0,\n",
      "                'similarity'],\n",
      "      dtype='object', length=604)\n"
     ]
    }
   ],
   "source": [
    "print(df.shape)  # This will print the shape of the DataFrame as (number_of_rows, number_of_columns)\n",
    "print(df.columns)"
   ]
  },
  {
   "cell_type": "code",
   "execution_count": 5,
   "metadata": {},
   "outputs": [
    {
     "name": "stdout",
     "output_type": "stream",
     "text": [
      "Mean Squared Error: 2.3920822425914907\n",
      "R-squared: 0.19207260951524652\n"
     ]
    }
   ],
   "source": [
    "from sklearn.model_selection import train_test_split\n",
    "from sklearn.metrics import mean_squared_error, r2_score\n",
    "from sklearn.ensemble import RandomForestRegressor\n",
    "\n",
    "# Define features and target\n",
    "X = df[['similarity']]  # Using the similarity score as the feature\n",
    "y = df[3.5]  # Assuming column 602 contains the categorical outcomes\n",
    "\n",
    "# Split the data\n",
    "X_train, X_test, y_train, y_test = train_test_split(X, y, test_size=0.3)\n",
    "\n",
    "# Initialize and train the classifier\n",
    "clf = LinearRegression()\n",
    "clf.fit(X_train, y_train)\n",
    "\n",
    "from sklearn.metrics import mean_squared_error, r2_score\n",
    "\n",
    "# Predicting the outcomes\n",
    "y_pred = clf.predict(X_test)\n",
    "\n",
    "# Evaluate the model\n",
    "mse = mean_squared_error(y_test, y_pred)\n",
    "r2 = r2_score(y_test, y_pred)\n",
    "\n",
    "print(f\"Mean Squared Error: {mse}\")\n",
    "print(f\"R-squared: {r2}\")\n"
   ]
  }
 ],
 "metadata": {
  "kernelspec": {
   "display_name": "Python 3",
   "language": "python",
   "name": "python3"
  },
  "language_info": {
   "codemirror_mode": {
    "name": "ipython",
    "version": 3
   },
   "file_extension": ".py",
   "mimetype": "text/x-python",
   "name": "python",
   "nbconvert_exporter": "python",
   "pygments_lexer": "ipython3",
   "version": "3.11.4"
  }
 },
 "nbformat": 4,
 "nbformat_minor": 2
}
