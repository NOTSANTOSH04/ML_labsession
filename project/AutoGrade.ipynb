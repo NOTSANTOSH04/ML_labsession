{
 "cells": [
  {
   "cell_type": "code",
   "execution_count": 11,
   "metadata": {},
   "outputs": [],
   "source": [
    "import pandas as pd\n",
    "import numpy as np\n",
    "from sklearn.model_selection import train_test_split\n",
    "from sklearn.linear_model import LinearRegression\n",
    "from sklearn.metrics import mean_squared_error\n"
   ]
  },
  {
   "cell_type": "code",
   "execution_count": 12,
   "metadata": {},
   "outputs": [],
   "source": [
    "import pandas as pd\n",
    "\n",
    "file_path = \"C:\\\\Users\\\\santo\\\\OneDrive - Amrita vishwa vidyapeetham\\\\Documents\\\\4th sem Btech\\\\Machine Learning\\\\datasets\\\\question_answers_answerkey.xlsx\"\n",
    "df = pd.read_excel(file_path, skiprows=1)\n"
   ]
  },
  {
   "cell_type": "code",
   "execution_count": 13,
   "metadata": {},
   "outputs": [],
   "source": [
    "from sklearn.metrics.pairwise import cosine_similarity\n",
    "\n",
    "# Assuming 'df' is your DataFrame\n",
    "# Preparing the embeddings for cosine similarity calculation\n",
    "question_answer_embeddings = df.iloc[:, 0:300].to_numpy()\n",
    "answer_key_embeddings = df.iloc[:, 300:600].to_numpy()\n",
    "\n",
    "# Calculate cosine similarity (result is a matrix)\n",
    "similarity_scores = [cosine_similarity(question_answer_embeddings[i].reshape(1, -1), \n",
    "                                       answer_key_embeddings[i].reshape(1, -1))[0, 0] \n",
    "                     for i in range(len(df))]\n",
    "\n",
    "# Add similarity scores as a new column to the DataFrame\n",
    "df['similarity'] = similarity_scores\n"
   ]
  },
  {
   "cell_type": "code",
   "execution_count": 14,
   "metadata": {},
   "outputs": [
    {
     "name": "stdout",
     "output_type": "stream",
     "text": [
      "(200, 604)\n",
      "Index([  0.01449042465537786,   0.01693243719637394, -0.005986982956528664,\n",
      "       -0.002628256101161242,  0.006029705982655287, -0.005112622864544392,\n",
      "          0.0209601279348135,   0.01948628388345242,  0.007617805153131485,\n",
      "        -0.02188760414719582,\n",
      "       ...\n",
      "         0.02328946627676487,    0.0161252822726965, -0.006875992752611637,\n",
      "         0.02274320274591446,  -0.01716111227869987,  -0.01143357250839472,\n",
      "                         3.5,                   5.0,                   1.0,\n",
      "                'similarity'],\n",
      "      dtype='object', length=604)\n",
      "   0.01449042465537786  0.01693243719637394  -0.005986982956528664  \\\n",
      "0             0.001377             0.018639              -0.002047   \n",
      "1            -0.007140             0.006690              -0.019511   \n",
      "2             0.007483             0.024403              -0.030678   \n",
      "3            -0.009415            -0.000132               0.014387   \n",
      "4             0.000745             0.027083               0.003584   \n",
      "\n",
      "   -0.002628256101161242  0.006029705982655287  -0.005112622864544392  \\\n",
      "0              -0.013585             -0.006913              -0.015554   \n",
      "1              -0.032985              0.005639              -0.041618   \n",
      "2               0.009540              0.008874               0.019971   \n",
      "3               0.003640             -0.006132              -0.032100   \n",
      "4               0.005610              0.001113              -0.005181   \n",
      "\n",
      "   0.0209601279348135  0.01948628388345242  0.007617805153131485  \\\n",
      "0            0.000658             0.029448              0.006088   \n",
      "1            0.002952            -0.060941             -0.004097   \n",
      "2            0.009276            -0.000581              0.000911   \n",
      "3            0.016981             0.000689             -0.006434   \n",
      "4            0.005616             0.015156              0.011587   \n",
      "\n",
      "   -0.02188760414719582  ...  0.02328946627676487  0.0161252822726965  \\\n",
      "0             -0.030137  ...            -0.000783            0.101055   \n",
      "1             -0.026633  ...             0.009714            0.000555   \n",
      "2              0.002667  ...             0.000320            0.000565   \n",
      "3             -0.029174  ...            -0.006536            0.015501   \n",
      "4             -0.003632  ...            -0.001282            0.149414   \n",
      "\n",
      "   -0.006875992752611637  0.02274320274591446  -0.01716111227869987  \\\n",
      "0              -0.001294            -0.010673             -0.009559   \n",
      "1               0.009183             0.003252             -0.001772   \n",
      "2              -0.000688             0.000826              0.000730   \n",
      "3               0.020556            -0.028254             -0.009998   \n",
      "4               0.013673            -0.034756             -0.021236   \n",
      "\n",
      "   -0.01143357250839472  3.5  5.0  1.0  similarity  \n",
      "0              0.011995  5.0    5    2    1.000000  \n",
      "1              0.002742  3.0    5    1    1.000000  \n",
      "2             -0.000396  5.0    5    2    0.103719  \n",
      "3              0.022380  5.0    5    2    0.099137  \n",
      "4              0.015378  4.0    5    1    0.319642  \n",
      "\n",
      "[5 rows x 604 columns]\n"
     ]
    }
   ],
   "source": [
    "print(df.shape)  # This will print the shape of the DataFrame as (number_of_rows, number_of_columns)\n",
    "print(df.columns)\n",
    "print(df.head())"
   ]
  },
  {
   "cell_type": "code",
   "execution_count": 15,
   "metadata": {},
   "outputs": [
    {
     "name": "stdout",
     "output_type": "stream",
     "text": [
      "Mean Squared Error: 1.8552538398997815\n",
      "Root Mean Squared Error: 1.362077031558708\n",
      "R-squared: 0.017047893794589597\n"
     ]
    }
   ],
   "source": [
    "from sklearn.model_selection import train_test_split\n",
    "from sklearn.ensemble import RandomForestRegressor\n",
    "from sklearn.metrics import accuracy_score, confusion_matrix\n",
    "import seaborn as sns\n",
    "import matplotlib.pyplot as plt\n",
    "\n",
    "# Define features and target\n",
    "X = df[['similarity']]  # Using the similarity score as the feature\n",
    "y = df[3.5]  # Assuming column 602 contains the categorical outcomes\n",
    "\n",
    "# Split the data\n",
    "X_train, X_test, y_train, y_test = train_test_split(X, y, test_size=0.3, random_state=42)\n",
    "\n",
    "# Initialize and train the classifier\n",
    "regressor = RandomForestRegressor(n_estimators=100, random_state=42)\n",
    "regressor.fit(X_train, y_train)\n",
    "\n",
    "from sklearn.metrics import mean_squared_error, r2_score\n",
    "\n",
    "y_pred = regressor.predict(X_test)\n",
    "\n",
    "mse = mean_squared_error(y_test, y_pred)\n",
    "rmse = mse ** 0.5\n",
    "r2 = r2_score(y_test, y_pred)\n",
    "\n",
    "print(f\"Mean Squared Error: {mse}\")\n",
    "print(f\"Root Mean Squared Error: {rmse}\")\n",
    "print(f\"R-squared: {r2}\")\n"
   ]
  },
  {
   "cell_type": "code",
   "execution_count": 17,
   "metadata": {},
   "outputs": [],
   "source": [
    "import pandas as pd\n",
    "\n",
    "file_path = \"C:\\\\Users\\\\santo\\\\OneDrive - Amrita vishwa vidyapeetham\\\\Documents\\\\4th sem Btech\\\\Machine Learning\\\\datasets\\\\answer_key_answers.xlsx\"\n",
    "df = pd.read_excel(file_path, skiprows=1)"
   ]
  },
  {
   "cell_type": "code",
   "execution_count": 18,
   "metadata": {},
   "outputs": [],
   "source": [
    "from sklearn.metrics.pairwise import cosine_similarity\n",
    "\n",
    "# Assuming 'df' is your DataFrame\n",
    "# Preparing the embeddings for cosine similarity calculation\n",
    "question_answer_embeddings = df.iloc[:, 0:300].to_numpy()\n",
    "answer_key_embeddings = df.iloc[:, 300:600].to_numpy()\n",
    "\n",
    "# Calculate cosine similarity (result is a matrix)\n",
    "similarity_scores = [cosine_similarity(question_answer_embeddings[i].reshape(1, -1), \n",
    "                                       answer_key_embeddings[i].reshape(1, -1))[0, 0] \n",
    "                     for i in range(len(df))]\n",
    "\n",
    "# Add similarity scores as a new column to the DataFrame\n",
    "df['similarity'] = similarity_scores"
   ]
  },
  {
   "cell_type": "code",
   "execution_count": 32,
   "metadata": {},
   "outputs": [
    {
     "name": "stdout",
     "output_type": "stream",
     "text": [
      "Mean Squared Error: 1.555140619545975\n",
      "Root Mean Squared Error: 1.247052773360444\n",
      "R-squared: 0.5112182442495627\n"
     ]
    }
   ],
   "source": [
    "from sklearn.model_selection import train_test_split\n",
    "from sklearn.ensemble import RandomForestRegressor\n",
    "\n",
    "# Define features and target\n",
    "X = df[['similarity']]  # Using the similarity score as the feature\n",
    "y = df[3.5]  # Assuming column 602 contains the categorical outcomes\n",
    "\n",
    "# Split the data\n",
    "X_train, X_test, y_train, y_test = train_test_split(X, y, test_size=0.3, random_state=100)\n",
    "\n",
    "# Initialize and train the classifier\n",
    "regressor = RandomForestRegressor(n_estimators=100, random_state=110)\n",
    "regressor.fit(X_train, y_train)\n",
    "\n",
    "from sklearn.metrics import mean_squared_error, r2_score\n",
    "\n",
    "y_pred = regressor.predict(X_test)\n",
    "\n",
    "mse = mean_squared_error(y_test, y_pred)\n",
    "rmse = mse ** 0.5\n",
    "r2 = r2_score(y_test, y_pred)\n",
    "\n",
    "print(f\"Mean Squared Error: {mse}\")\n",
    "print(f\"Root Mean Squared Error: {rmse}\")\n",
    "print(f\"R-squared: {r2}\")\n"
   ]
  },
  {
   "cell_type": "code",
   "execution_count": null,
   "metadata": {},
   "outputs": [],
   "source": []
  },
  {
   "cell_type": "code",
   "execution_count": null,
   "metadata": {},
   "outputs": [],
   "source": []
  }
 ],
 "metadata": {
  "kernelspec": {
   "display_name": "Python 3",
   "language": "python",
   "name": "python3"
  },
  "language_info": {
   "codemirror_mode": {
    "name": "ipython",
    "version": 3
   },
   "file_extension": ".py",
   "mimetype": "text/x-python",
   "name": "python",
   "nbconvert_exporter": "python",
   "pygments_lexer": "ipython3",
   "version": "3.11.4"
  }
 },
 "nbformat": 4,
 "nbformat_minor": 2
}
