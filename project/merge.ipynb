{
 "cells": [
  {
   "cell_type": "code",
   "execution_count": 9,
   "metadata": {},
   "outputs": [],
   "source": [
    "import pandas as pd\n",
    "import openpyxl\n",
    "\n",
    "# Load the first Excel file\n",
    "df1 = pd.read_excel(\"C:\\\\Users\\\\santo\\\\OneDrive - Amrita vishwa vidyapeetham\\\\Documents\\\\4th sem Btech\\\\Machine Learning\\\\datasets\\\\phd_QuestionAnswers_extractive_fasttext_embeddings 1.xlsx\")\n",
    "\n",
    "# Load the second Excel file\n",
    "df2 = pd.read_excel(\"C:\\\\Users\\\\santo\\\\OneDrive - Amrita vishwa vidyapeetham\\\\Documents\\\\4th sem Btech\\\\Machine Learning\\\\datasets\\\\phd_answer_key_extractive_fasttext_embeddings.xlsx\")\n",
    "\n",
    "# Merge the two dataframes\n",
    "merged_df = pd.concat([df1, df2], axis=1)\n",
    "\n",
    "# Write the merged dataframe to a new Excel file\n",
    "merged_df.to_excel('C:\\\\Users\\\\santo\\\\OneDrive - Amrita vishwa vidyapeetham\\\\Documents\\\\4th sem Btech\\\\Machine Learning\\\\datasets\\\\questionAnswer_key_file.xlsx', index=False)"
   ]
  },
  {
   "cell_type": "code",
   "execution_count": 10,
   "metadata": {},
   "outputs": [],
   "source": [
    "import pandas as pd\n",
    "import openpyxl\n",
    "\n",
    "# Load the first Excel file\n",
    "df1 = pd.read_excel(\"C:\\\\Users\\\\santo\\\\OneDrive - Amrita vishwa vidyapeetham\\\\Documents\\\\4th sem Btech\\\\Machine Learning\\\\datasets\\\\phd_question_extractive_fasttext_embeddings.xlsx\")\n",
    "\n",
    "# Load the second Excel file\n",
    "df2 = pd.read_excel(\"C:\\\\Users\\\\santo\\\\OneDrive - Amrita vishwa vidyapeetham\\Documents\\\\4th sem Btech\\\\Machine Learning\\\\datasets\\\\phd_answers_extractive_fasttext_embeddings 1.xlsx\")\n",
    "\n",
    "# Merge the two dataframes\n",
    "merged_df = pd.concat([df1, df2], axis=1)\n",
    "\n",
    "# Write the merged dataframe to a new Excel file\n",
    "merged_df.to_excel('C:\\\\Users\\\\santo\\\\OneDrive - Amrita vishwa vidyapeetham\\\\Documents\\\\4th sem Btech\\\\Machine Learning\\\\datasets\\\\questionAnswer_file.xlsx', index=False)"
   ]
  },
  {
   "cell_type": "code",
   "execution_count": 11,
   "metadata": {},
   "outputs": [],
   "source": [
    "import pandas as pd\n",
    "import openpyxl\n",
    "\n",
    "# Load the first Excel file\n",
    "df1 = pd.read_excel(\"C:\\\\Users\\\\santo\\\\OneDrive - Amrita vishwa vidyapeetham\\Documents\\\\4th sem Btech\\\\Machine Learning\\\\datasets\\\\phd_answers_extractive_fasttext_embeddings 1.xlsx\")\n",
    "\n",
    "# Load the second Excel file\n",
    "df2 = pd.read_excel(\"C:\\\\Users\\\\santo\\\\OneDrive - Amrita vishwa vidyapeetham\\\\Documents\\\\4th sem Btech\\\\Machine Learning\\\\datasets\\\\phd_answer_key_extractive_fasttext_embeddings.xlsx\")\n",
    "\n",
    "# Merge the two dataframes\n",
    "merged_df = pd.concat([df1, df2], axis=1)\n",
    "\n",
    "# Write the merged dataframe to a new Excel file\n",
    "merged_df.to_excel('C:\\\\Users\\\\santo\\\\OneDrive - Amrita vishwa vidyapeetham\\\\Documents\\\\4th sem Btech\\\\Machine Learning\\\\datasets\\\\Answer_Answer_key_file.xlsx', index=False)"
   ]
  },
  {
   "cell_type": "code",
   "execution_count": null,
   "metadata": {},
   "outputs": [],
   "source": [
    "import pandas as pd \n",
    "import openpyxl\n",
    "\n",
    "df1= pd.read_excel(\"C:\\\\Users\\\\santo\\\\OneDrive - Amrita vishwa vidyapeetham\\\\Documents\\\\4th sem Btech\\\\Machine Learning\\\\datasets\\\\AISP 1_cal.xlsx\")\n",
    "\n"
   ]
  }
 ],
 "metadata": {
  "kernelspec": {
   "display_name": "Python 3",
   "language": "python",
   "name": "python3"
  },
  "language_info": {
   "codemirror_mode": {
    "name": "ipython",
    "version": 3
   },
   "file_extension": ".py",
   "mimetype": "text/x-python",
   "name": "python",
   "nbconvert_exporter": "python",
   "pygments_lexer": "ipython3",
   "version": "3.11.4"
  }
 },
 "nbformat": 4,
 "nbformat_minor": 2
}
