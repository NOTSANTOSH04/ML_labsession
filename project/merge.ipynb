{
 "cells": [
  {
   "cell_type": "code",
   "execution_count": null,
   "metadata": {},
   "outputs": [],
   "source": [
    "import pandas as pd\n",
    "\n",
    "# Load the first Excel file\n",
    "df1 = pd.read_excel('path_to_your_first_file.xlsx')\n",
    "\n",
    "# Load the second Excel file\n",
    "df2 = pd.read_excel('path_to_your_second_file.xlsx')\n",
    "\n",
    "# Merge the two dataframes\n",
    "merged_df = pd.concat([df1, df2])\n",
    "\n",
    "# Write the merged dataframe to a new Excel file\n",
    "merged_df.to_excel('merged_file.xlsx', index=False)"
   ]
  }
 ],
 "metadata": {
  "language_info": {
   "name": "python"
  }
 },
 "nbformat": 4,
 "nbformat_minor": 2
}
